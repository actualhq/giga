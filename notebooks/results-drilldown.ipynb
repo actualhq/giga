{
 "cells": [
  {
   "attachments": {},
   "cell_type": "markdown",
   "metadata": {},
   "source": [
    "\n",
    "# Results Drilldown\n",
    "\n",
    "This notebook allows you to upload the result of a previous model run and visualize/down-select results.\n",
    "\n",
    "## Upload Configuration & Results\n",
    "\n",
    "> TODO: Add CSV upload for results and configuration.\n",
    "\n",
    "## Down-select\n",
    "\n",
    "> TODO: Add box to down-select set of connected schools.\n",
    "\n",
    "## Visualize\n",
    "\n",
    "> TODO: Add maps.\n",
    "\n",
    "## Export\n",
    "\n",
    "> TODO: Add mechanism to export down-selected dataset."
   ]
  },
  {
   "cell_type": "code",
   "execution_count": null,
   "metadata": {},
   "outputs": [],
   "source": []
  }
 ],
 "metadata": {
  "language_info": {
   "name": "python"
  },
  "orig_nbformat": 4
 },
 "nbformat": 4,
 "nbformat_minor": 2
}
