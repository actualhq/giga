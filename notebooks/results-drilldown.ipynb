{
 "cells": [
  {
   "cell_type": "markdown",
   "metadata": {},
   "source": [
    "\n",
    "# Results Drilldown\n",
    "\n",
    "This notebook allows you to upload the result of a previous model run and visualize/down-select results.\n",
    "\n",
    "## Upload Configuration & Results\n",
    "\n",
    "> TODO: Add CSV upload for results and configuration.\n",
    "\n",
    "## Down-select\n",
    "\n",
    "> TODO: Add box to down-select set of connected schools.\n",
    "\n",
    "## Visualize\n",
    "\n",
    "> TODO: Add maps.\n",
    "\n",
    "## Export\n",
    "\n",
    "> TODO: Add mechanism to export down-selected dataset."
   ]
  },
  {
   "cell_type": "code",
   "execution_count": null,
   "metadata": {},
   "outputs": [],
   "source": []
  }
 ],
 "metadata": {
  "kernelspec": {
   "display_name": "Python 3 (ipykernel)",
   "language": "python",
   "name": "python3"
  },
  "language_info": {
   "codemirror_mode": {
    "name": "ipython",
    "version": 3
   },
   "file_extension": ".py",
   "mimetype": "text/x-python",
   "name": "python",
   "nbconvert_exporter": "python",
   "pygments_lexer": "ipython3",
   "version": "3.9.6"
  }
 },
 "nbformat": 4,
 "nbformat_minor": 4
}
