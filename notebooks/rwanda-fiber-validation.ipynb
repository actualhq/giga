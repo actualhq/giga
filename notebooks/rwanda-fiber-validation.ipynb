{
 "cells": [
  {
   "cell_type": "markdown",
   "id": "c935915c-b504-48b3-9bd7-a9119c172042",
   "metadata": {},
   "source": [
    "# Fiber Data Validation\n",
    "\n",
    "We are going to use three datasets in this notebook to validate the fiber node locations:\n",
    "1. School entity data from Project Connect APIs\n",
    "2. School to fiber node distances\n",
    "3. Manually generated fiber locations\n",
    "\n",
    "Let's first compare the two school datasets to one another."
   ]
  },
  {
   "cell_type": "code",
   "execution_count": null,
   "id": "bf1566e1-e758-4fbb-bc81-569ae9172d68",
   "metadata": {},
   "outputs": [],
   "source": [
    "import pandas as pd\n",
    "\n",
    "schools = pd.read_csv('sample_workspace/rwanda/schools.csv')\n",
    "schools"
   ]
  },
  {
   "cell_type": "code",
   "execution_count": null,
   "id": "d6815d8a-f972-4f02-8e0e-4a520f4079da",
   "metadata": {},
   "outputs": [],
   "source": [
    "import pandas as pd\n",
    "\n",
    "df = pd.read_csv('parameter_workspace/rwanda_fiber_distances.csv')\n",
    "dists = df[['giga_id_school', 'source_id_school', 'fiber_node_distance']]\n",
    "dists = dists.rename(columns={'source_id_school': 'school_id'})\n",
    "dists"
   ]
  },
  {
   "cell_type": "code",
   "execution_count": null,
   "id": "2914ea70-fb33-49eb-9290-8e17a16c938a",
   "metadata": {},
   "outputs": [],
   "source": [
    "dists_schools = set(dists['school_id'].dropna())\n",
    "connect_schools = set(schools['school_id'].dropna())\n",
    "\n",
    "print(f'Project connect schools {len(connect_schools)}, not in distance data set {len(connect_schools.difference(dists_schools))}')\n",
    "print(f'Fiber distance schools {len(dists_schools)}, not in distance data set {len(dists_schools.difference(connect_schools))}')\n",
    "print(f'Total schools in validation: {len(dists_schools.intersection(connect_schools))}')"
   ]
  },
  {
   "cell_type": "markdown",
   "id": "b405972c-806d-4931-8593-cd4559482580",
   "metadata": {},
   "source": [
    "## Distance Comparison\n",
    "\n",
    "Let's take a look at the differences in distance estimates and the true values."
   ]
  },
  {
   "cell_type": "code",
   "execution_count": null,
   "id": "01ca5f2e-3806-4e2b-91ee-dcb531d47880",
   "metadata": {},
   "outputs": [],
   "source": [
    "# join to the shchools\n",
    "\n",
    "schools = schools[schools['school_id'].notna()]\n",
    "dists = dists[dists['school_id'].notna()]\n",
    "\n",
    "schools = schools.merge(dists, how='inner', on='school_id')\n",
    "schools = schools.rename(columns={'fiber_node_distance': 'true_fiber_node_distance'})\n",
    "schools"
   ]
  },
  {
   "cell_type": "code",
   "execution_count": null,
   "id": "96fbaa07-c116-4015-b92e-8b3b17035452",
   "metadata": {},
   "outputs": [],
   "source": [
    "import geopandas as gpd \n",
    "import fiona \n",
    "import numpy as np\n",
    "import pandas as pd \n",
    "\n",
    "\n",
    "def to_lon(row):\n",
    "    return row['geometry'].coords.xy[0][0]\n",
    "    \n",
    "def to_lat(row):\n",
    "    return row['geometry'].coords.xy[1][0]\n",
    "\n",
    "\n",
    "fiona.drvsupport.supported_drivers['kml'] = 'rw' # enable KML support which is disabled by default\n",
    "fiona.drvsupport.supported_drivers['KML'] = 'rw' # enable KML support which is disabled by default\n",
    "\n",
    "fiber = gpd.read_file('parameter_workspace/rwanda.kml',driver='KML')\n",
    "fiber = fiber.rename(columns={'Name': 'coordinate_id'})\n",
    "fiber['lat'] = fiber.apply(to_lat, axis=1)\n",
    "fiber['lon'] = fiber.apply(to_lon, axis=1)\n",
    "fiber = pd.DataFrame(fiber)\n",
    "fiber = fiber.drop(columns=['Description', 'geometry'])\n",
    "fiber.to_csv('sample_workspace/rwanda/fiber.csv')"
   ]
  },
  {
   "cell_type": "code",
   "execution_count": null,
   "id": "20d61693-7711-4c1c-bfdb-efe553e65e8b",
   "metadata": {},
   "outputs": [],
   "source": [
    "import pandas as pd\n",
    "\n",
    "from giga.models.nodes.graph.greedy_distance_connector import GreedyDistanceConnector\n",
    "from giga.schemas.school import GigaSchoolTable\n",
    "from giga.schemas.geo import UniqueCoordinateTable\n",
    "\n",
    "fiber_coordinates = UniqueCoordinateTable.from_csv('sample_workspace/rwanda/fiber.csv')\n",
    "school_coords = GigaSchoolTable.from_csv('sample_workspace/rwanda/schools.csv')\n",
    "\n",
    "conection_model = GreedyDistanceConnector(\n",
    "    fiber_coordinates.coordinates,\n",
    "    dynamic_connect=False,\n",
    "    progress_bar=True\n",
    ")"
   ]
  },
  {
   "cell_type": "code",
   "execution_count": null,
   "id": "d9550886-3f9b-40f4-b38d-fb260091c8d4",
   "metadata": {},
   "outputs": [],
   "source": [
    "dists = conection_model.run(school_coords.to_coordinates())"
   ]
  },
  {
   "cell_type": "code",
   "execution_count": null,
   "id": "20b28fa1-d86b-4c2b-845d-c71a02f28e43",
   "metadata": {},
   "outputs": [],
   "source": [
    "dist_lookup = {d.pair_ids[0]: d.distance / 1000.0 for d in dists}\n",
    "\n",
    "manual_distances = [dist_lookup[row['giga_id_school_x']] for i, row in schools.iterrows()]\n",
    "schools['estimated_fiber_node_distance'] = manual_distances    "
   ]
  },
  {
   "cell_type": "code",
   "execution_count": null,
   "id": "abe16d7e-d10d-4353-8ca7-663d0c9c814f",
   "metadata": {},
   "outputs": [],
   "source": [
    "import matplotlib.pyplot as plt\n",
    "\n",
    "plt.figure()\n",
    "ax = schools.hist('true_fiber_node_distance', bins=50, label=\"True\")\n",
    "schools.hist('estimated_fiber_node_distance', bins=50, ax=ax, alpha=0.75, color='#f5de07', label=\"Estimated\")\n",
    "plt.xlabel(\"Distance (km)\")\n",
    "plt.title(\"Fiber Node Distance Comparison\")\n",
    "plt.legend()\n",
    "plt.show()"
   ]
  },
  {
   "cell_type": "code",
   "execution_count": null,
   "id": "ee6569f5-ad81-43b0-be1d-52e3229a00c9",
   "metadata": {},
   "outputs": [],
   "source": [
    "import matplotlib.pyplot as plt\n",
    "\n",
    "delta = list(abs(schools['true_fiber_node_distance'] - schools['estimated_fiber_node_distance']))\n",
    "schools['fiber_distance_delta'] = delta\n",
    "\n",
    "plt.hist(delta, bins=50)\n",
    "plt.xlabel(\"Delta in Distance Estimate (km)\")\n",
    "plt.grid()\n",
    "plt.show()"
   ]
  },
  {
   "cell_type": "code",
   "execution_count": null,
   "id": "a1b2c9d8-c74c-41dc-b5e4-e4aecf9baec9",
   "metadata": {},
   "outputs": [],
   "source": [
    "from ipywidgets import interactive\n",
    "import matplotlib.pyplot as plt\n",
    "import folium\n",
    "from folium.plugins import Draw\n",
    "import numpy as np\n",
    "import branca.colormap as cm\n",
    "\n",
    "\n",
    "m=folium.Map(tiles=\"cartodbpositron\", zoom_start=8, location=[-1.9, 30.1])\n",
    "\n",
    "linear = cm.LinearColormap([\"green\", \"yellow\", \"red\"], vmin=schools['fiber_distance_delta'].min(), vmax=schools['fiber_distance_delta'].max())\n",
    "\n",
    "for i, s in schools.iterrows():\n",
    "    popup = f\"Distance delta {s.fiber_distance_delta}\"\n",
    "    #popup += f\" {c.coordinate_id}\"\n",
    "    folium.CircleMarker(\n",
    "        location=[s['lat'], s['lon']],\n",
    "        popup=popup,\n",
    "        color=linear(s.fiber_distance_delta),\n",
    "        fill=True,\n",
    "        radius=2,\n",
    "    ).add_to(m)\n",
    "    \n",
    "for c in fiber_coordinates.coordinates:\n",
    "    popup = f\"{c.coordinate_id}\"\n",
    "    folium.CircleMarker(\n",
    "        location=c.coordinate,\n",
    "        popup=popup,\n",
    "        color=\"black\",\n",
    "        fill=True,\n",
    "        radius=2,\n",
    "    ).add_to(m)\n",
    "    \n",
    "Draw(\n",
    "    export=True,\n",
    "    filename=\"fiber.geojson\",\n",
    "    position=\"topleft\",\n",
    ").add_to(m)\n",
    "m\n"
   ]
  },
  {
   "cell_type": "code",
   "execution_count": null,
   "id": "e8a98df6-1623-420b-9666-472d7e210bbf",
   "metadata": {},
   "outputs": [],
   "source": [
    "import numpy as np\n",
    "import pandas as pd\n",
    "\n",
    "by_admin = []\n",
    "\n",
    "grouped = {}\n",
    "\n",
    "for a, g in schools.groupby('admin_1_name'):\n",
    "    d = np.mean(g['true_fiber_node_distance'] - g['estimated_fiber_node_distance'])\n",
    "    grouped[a] = list(g['true_fiber_node_distance'] - g['estimated_fiber_node_distance'])\n",
    "    by_admin.append({\"admin_1\": a, \"distance_average\": d})\n",
    "pd.DataFrame(by_admin)"
   ]
  },
  {
   "cell_type": "code",
   "execution_count": null,
   "id": "fe7c4d7f-281e-46d5-bd80-c16eb87ed568",
   "metadata": {},
   "outputs": [],
   "source": [
    "from ipywidgets import interactive, interact\n",
    "\n",
    "def interactive_admin(grouped):\n",
    "    def render(admin):\n",
    "        plt.xlim([-30, 30])\n",
    "        plt.hist(grouped[admin], bins=50)\n",
    "        plt.xlabel(\"Delta in Distance Estimate (km)\")\n",
    "        plt.title(admin)\n",
    "        plt.grid()\n",
    "    interactive_plot = interactive(render, admin=list(grouped.keys()))\n",
    "    return interactive_plot"
   ]
  },
  {
   "cell_type": "code",
   "execution_count": null,
   "id": "3ae67694-8047-48c1-a83f-a21dcc57329c",
   "metadata": {},
   "outputs": [],
   "source": [
    "interactive_admin(grouped)"
   ]
  }
 ],
 "metadata": {
  "kernelspec": {
   "display_name": "Python 3 (ipykernel)",
   "language": "python",
   "name": "python3"
  },
  "language_info": {
   "codemirror_mode": {
    "name": "ipython",
    "version": 3
   },
   "file_extension": ".py",
   "mimetype": "text/x-python",
   "name": "python",
   "nbconvert_exporter": "python",
   "pygments_lexer": "ipython3",
   "version": "3.8.13"
  }
 },
 "nbformat": 4,
 "nbformat_minor": 5
}
