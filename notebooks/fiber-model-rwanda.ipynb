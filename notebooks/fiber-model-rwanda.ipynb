{
 "cells": [
  {
   "cell_type": "markdown",
   "id": "93b5b394",
   "metadata": {},
   "source": [
    "## Greedy Distance Connector\n",
    "\n",
    "This notebook demonstrates example usage of the greedy distance connector model, which can be used to estimate the length of fiber cable needed to connect schools of interest to the internet.\n",
    "\n",
    "Let's first load in existing school data."
   ]
  },
  {
   "cell_type": "code",
   "execution_count": null,
   "id": "8c7dddce",
   "metadata": {},
   "outputs": [],
   "source": [
    "from giga.schemas.school import GigaSchoolTable\n",
    "from giga.schemas.school import GigaSchoolTable\n",
    "from giga.schemas.geo import UniqueCoordinateTable\n",
    "\n",
    "country = 'rwanda'\n",
    "\n",
    "fiber = UniqueCoordinateTable.from_csv(f'sample_workspace/{country}/fiber.csv').coordinates\n",
    "schools = GigaSchoolTable.from_csv(f'sample_workspace/{country}/schools.csv').to_coordinates()"
   ]
  },
  {
   "cell_type": "markdown",
   "id": "65b8ef52",
   "metadata": {},
   "source": [
    "Lets take a look at what these schools look like."
   ]
  },
  {
   "cell_type": "code",
   "execution_count": null,
   "id": "636f9b3e",
   "metadata": {},
   "outputs": [],
   "source": [
    "from giga.viz.notebooks.fiber import plot_fiber_map, plot_coordinate_map, default_rwanda_map\n",
    "\n",
    "plot_coordinate_map(schools, coordinate_name='School', color='#43adde', coordinate_radius=4, m=default_rwanda_map())"
   ]
  },
  {
   "cell_type": "markdown",
   "id": "a5edfcd2",
   "metadata": {},
   "source": [
    "Our objective is to estimatee the cost of connect fiber nodes (green) to schools (blue).\n",
    "The primary cost driver is laying new fiber, so we want to estimate the total distance of fiber lines that would be needed to conenct the schools in the region of interest.\n",
    "The previous approach simply used the distance of the nearest fiber node to do this estimate - this creates a significant overestimation of costs.\n",
    "The new approach leverages economies of scale, by assuming that a newly connected school can serve as another node that other schools can connect to - a likely accurate assumption for most real-world schools.\n",
    "You can see what this looks like for a simple scenario of schools/fiber nodes for the naive approach we used before and the updated approach.\n",
    "\n",
    "Note: we are creating a simple toy scenario as an example with 50 schools an 10 fiber nodes using existing school data."
   ]
  },
  {
   "cell_type": "code",
   "execution_count": null,
   "id": "f4e06c15",
   "metadata": {},
   "outputs": [],
   "source": [
    "from giga.viz.notebooks.fiber import plot_fiber_map, default_rwanda_map\n",
    "\n",
    "\n",
    "plot_fiber_map(fiber, schools, m=default_rwanda_map())"
   ]
  },
  {
   "cell_type": "markdown",
   "id": "6bb8b004",
   "metadata": {},
   "source": [
    "Let's try the connector model by first running it with the `dynamic_connect` option set to `False`.\n",
    "This will create connection between only the existing fiber network and the schools without treating the new schools as potential fiber nodes that can be used to reduce connectivity costs through economies of scale."
   ]
  },
  {
   "cell_type": "code",
   "execution_count": null,
   "id": "30e3e081-38f2-44e1-8456-f89deb113965",
   "metadata": {},
   "outputs": [],
   "source": [
    "from giga.schemas.distance_cache import SingleLookupDistanceCache, MultiLookupDistanceCache, GreedyConnectCache\n",
    "\n",
    "cache = GreedyConnectCache.from_workspace('sample_workspace/rwanda')"
   ]
  },
  {
   "cell_type": "code",
   "execution_count": null,
   "id": "8adb55ed",
   "metadata": {},
   "outputs": [],
   "source": [
    "from giga.models.nodes.graph.greedy_distance_connector import GreedyDistanceConnector\n",
    "from giga.viz.notebooks.fiber import plot_fiber_connections, default_rwanda_map\n",
    "\n",
    "m = GreedyDistanceConnector(fiber, dynamic_connect=False, progress_bar=True, maximum_connection_length_m=20_000, distance_cache=cache)\n",
    "distances_baseline = m.run(schools)\n",
    "plot_fiber_connections(fiber, schools, distances_baseline, m=default_rwanda_map())"
   ]
  },
  {
   "cell_type": "markdown",
   "id": "548c6843",
   "metadata": {},
   "source": [
    "Let's now see what kind of results the connection model produces when the `dynamic_connect` flag is set to `True`.\n",
    "This model will connect unconnected schools to both fiber nodes and other schools that have been connected."
   ]
  },
  {
   "cell_type": "code",
   "execution_count": null,
   "id": "27ab2574-c5f2-4d62-817b-e5c12296a798",
   "metadata": {},
   "outputs": [],
   "source": [
    "from giga.schemas.distance_cache import SingleLookupDistanceCache, MultiLookupDistanceCache, GreedyConnectCache\n",
    "\n",
    "cache = GreedyConnectCache.from_workspace('sample_workspace/rwanda')"
   ]
  },
  {
   "cell_type": "code",
   "execution_count": null,
   "id": "105c2ab7",
   "metadata": {},
   "outputs": [],
   "source": [
    "from giga.models.nodes.graph.greedy_distance_connector import GreedyDistanceConnector\n",
    "from giga.viz.notebooks.fiber import plot_fiber_connections, default_rwanda_map\n",
    "\n",
    "m = GreedyDistanceConnector(fiber, dynamic_connect=True, progress_bar=True, maximum_connection_length_m=20_000, distance_cache=cache)\n",
    "distances_economies_of_scale = m.run(schools)\n",
    "plot_fiber_connections(fiber, schools, distances_economies_of_scale, m=default_rwanda_map())"
   ]
  },
  {
   "cell_type": "code",
   "execution_count": null,
   "id": "b0f23756-2409-47a5-8f95-89ca2e2e9005",
   "metadata": {},
   "outputs": [],
   "source": [
    "distances_economies_of_scale[0]"
   ]
  },
  {
   "cell_type": "markdown",
   "id": "2fe05b07",
   "metadata": {},
   "source": [
    "Let's use an interactive plot below to see how the connections are created as the algorithm behind the model runs.\n",
    "The model connects 50 schools to the fiber network, so we'll see a map of the connections over 50 iterations (one for each school)."
   ]
  },
  {
   "cell_type": "code",
   "execution_count": null,
   "id": "f635484b",
   "metadata": {},
   "outputs": [],
   "source": [
    "import geopandas as gpd\n",
    "from giga.viz.notebooks.fiber import interactive_connection_history\n",
    "\n",
    "border_file = 'parameter_workspace/TM_WORLD_BORDERS-0.3/TM_WORLD_BORDERS-0.3.shp'\n",
    "borders = gpd.read_file(border_file)\n",
    "b = borders[borders[\"NAME\"] == 'Rwanda']\n",
    "\n",
    "interactive_connection_history(b, fiber, schools, distances_economies_of_scale)"
   ]
  },
  {
   "cell_type": "markdown",
   "id": "d5416dcf",
   "metadata": {},
   "source": [
    "Let's summarize the results from each of our connection runs in a table."
   ]
  },
  {
   "cell_type": "code",
   "execution_count": null,
   "id": "a05685a2",
   "metadata": {},
   "outputs": [],
   "source": [
    "import pandas as pd\n",
    "import numpy as np\n",
    "\n",
    "db = np.round(sum(list(map(lambda x: x.distance, distances_baseline))) / 1000.0, 2)\n",
    "ds = np.round(sum(list(map(lambda x: x.distance, distances_economies_of_scale))) / 1000.0, 2)\n",
    "\n",
    "pd.DataFrame([{'Model Type': 'Baseline', 'Schools': len(schools), 'Fiber Nodes': len(fiber), 'Distance Fiber (km)': db},\n",
    "              {'Model Type': 'Economies of Scale', 'Schools': len(schools), 'Fiber Nodes': len(fiber), 'Distance Fiber (km)': ds}])"
   ]
  },
  {
   "cell_type": "code",
   "execution_count": null,
   "id": "821234ee-a9b4-48a2-b458-cfa6880dc9cd",
   "metadata": {},
   "outputs": [],
   "source": []
  }
 ],
 "metadata": {
  "kernelspec": {
   "display_name": "Python 3 (ipykernel)",
   "language": "python",
   "name": "python3"
  },
  "language_info": {
   "codemirror_mode": {
    "name": "ipython",
    "version": 3
   },
   "file_extension": ".py",
   "mimetype": "text/x-python",
   "name": "python",
   "nbconvert_exporter": "python",
   "pygments_lexer": "ipython3",
   "version": "3.8.13"
  }
 },
 "nbformat": 4,
 "nbformat_minor": 5
}
