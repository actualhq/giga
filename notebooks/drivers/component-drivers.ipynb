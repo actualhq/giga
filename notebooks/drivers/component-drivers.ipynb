{
 "cells": [
  {
   "cell_type": "markdown",
   "id": "095cf8f4-36a4-42a1-acc8-e25ffd84b24e",
   "metadata": {},
   "source": [
    "# Data and Configuration\n",
    "\n",
    "This notebook provides examples of data pipelines, data space building, and configuration managment, in addition to examples of model components being used (see section below).\n",
    "The following examples are provided:\n",
    "* Baseline parameter confiugration\n",
    "* Data space"
   ]
  },
  {
   "cell_type": "code",
   "execution_count": null,
   "id": "7d6f9798-d1db-4d1d-874a-9ea1ed85f2a4",
   "metadata": {},
   "outputs": [],
   "source": [
    "from giga.app.config import ConfigClient, get_config\n",
    "\n",
    "# we can specify the default configuration to load data from a local workspace\n",
    "workspace = '../sample_workspace' # the workspace where data for each country of interest can be found\n",
    "country = 'sample' # the identifier for the country of interest (rwanda, and brazil are the other options)\n",
    "default_config = ConfigClient(get_config([f\"data={country}\", f\"data.workspace={workspace}\"]))"
   ]
  },
  {
   "cell_type": "markdown",
   "id": "fee261b0-6778-422b-972c-331b58644a00",
   "metadata": {},
   "source": [
    "# Component Drivers\n",
    "\n",
    "This notebook provides examples of component drivers that show how to configure, and run a model component.\n",
    "The following are shown:\n",
    "\n",
    "* Fiber Model\n",
    "* Satellite Model\n",
    "* Cellular Model\n"
   ]
  },
  {
   "cell_type": "markdown",
   "id": "2a38b397-0a69-4b95-b58f-f2c5e6f75cda",
   "metadata": {},
   "source": [
    "## Data Space"
   ]
  },
  {
   "cell_type": "markdown",
   "id": "ea7b1a77-df95-4521-b2d6-f28d166f2e03",
   "metadata": {},
   "source": [
    "## Fiber Component Model"
   ]
  },
  {
   "cell_type": "code",
   "execution_count": null,
   "id": "9e6b22a1-d0f7-484f-99a7-c486efb423c0",
   "metadata": {},
   "outputs": [],
   "source": [
    "from giga.app.config import ConfigClient, get_config\n",
    "\n",
    "workspace = \"../sample_workspace\"\n",
    "global_config = ConfigClient(get_config([\"data=sample\", f\"data.workspace={workspace}\"]))"
   ]
  },
  {
   "cell_type": "code",
   "execution_count": null,
   "id": "19a37b9d-5716-4188-aa67-762a74474ca3",
   "metadata": {},
   "outputs": [],
   "source": [
    "from giga.models.components.fiber_cost_model import FiberCostModel\n",
    "from giga.schemas.conf.models import FiberTechnologyCostConf\n",
    "from giga.data.space.model_data_space import ModelDataSpace\n",
    "\n",
    "\n",
    "# Specify all the configurations, there are parsers that can help with this in the library\n",
    "config = FiberTechnologyCostConf(\n",
    "            capex={\n",
    "                \"cost_per_km\": 7_500, # USD\n",
    "                \"economies_of_scale\": True,\n",
    "            },\n",
    "            opex={\n",
    "                \"cost_per_km\": 100, # USD\n",
    "                \"annual_bandwidth_cost_per_mbps\": 10, # in USD\n",
    "            },\n",
    "            constraints={\n",
    "                \"maximum_connection_length\": 20_000, # in meters\n",
    "                \"required_power\": 500, # in kWh\n",
    "                \"maximum_bandwithd\": 2_000.0, # mbps\n",
    "            },\n",
    "            electricity_config={\"capex\": {\"solar_panel_costs\": 500.0,\n",
    "                                          \"battery_costs\": 0.0},\n",
    "                                \"opex\": {\"cost_per_kwh\": 0.1}\n",
    "                \n",
    "            },\n",
    "        )\n",
    "\n",
    "# Get the school data from a local workspace directory\n",
    "data_space = ModelDataSpace(global_config.local_workspace_data_space_config) # a number of ways to load this including from project connect APIs\n",
    "\n",
    "# create and run the mode\n",
    "model = FiberCostModel(config)\n",
    "outputs = model.run(data_space) # pass in the model at runtime\n",
    "\n",
    "assert all([r.technology == 'Fiber' for r in outputs.cost_results])\n",
    "assert len(outputs.cost_results) == 50 # 50 schools checked\n",
    "assert outputs.cost_results[0].feasible is False # first school is too far away from a fiber node\n",
    "assert outputs.cost_results[1].feasible is True"
   ]
  },
  {
   "cell_type": "markdown",
   "id": "3e4a5d6d-1252-420a-9a72-c39f1abe4261",
   "metadata": {},
   "source": [
    "## Sattelite Component Model"
   ]
  },
  {
   "cell_type": "code",
   "execution_count": null,
   "id": "4eb71ae9-46fb-4c72-a85b-7bc6bbc3755a",
   "metadata": {},
   "outputs": [],
   "source": [
    "from giga.models.components.satellite_cost_model import SatelliteCostModel\n",
    "from giga.schemas.conf.models import SatelliteTechnologyCostConf\n",
    "from giga.data.space.model_data_space import ModelDataSpace\n",
    "\n",
    "\n",
    "# Specify all the configurations, there are parsers that can help with this in the library\n",
    "config = SatelliteTechnologyCostConf(\n",
    "            capex={\n",
    "                \"fixed_costs\": 500 # USD hardware installation\n",
    "            },\n",
    "            opex={\n",
    "                \"fixed_costs\": 0.0, # USD hardware maintance\n",
    "                \"annual_bandwidth_cost_per_mbps\": 15.0,\n",
    "            },\n",
    "            constraints={\n",
    "                \"maximum_bandwithd\": 150.0,  # should be pulled from defaults\n",
    "                \"required_power\": 200.0,\n",
    "            },\n",
    "            electricity_config={\"capex\": {\"solar_panel_costs\": 500.0,\n",
    "                                          \"battery_costs\": 0.0},\n",
    "                                \"opex\": {\"cost_per_kwh\": 0.1}\n",
    "            },\n",
    "        )\n",
    "\n",
    "# Get the school data from a local workspace directory\n",
    "data_space = ModelDataSpace(global_config.local_workspace_data_space_config) # a number of ways to load this including from project connect APIs\n",
    "\n",
    "# create and run the mode\n",
    "model = SatelliteCostModel(config)\n",
    "outputs = model.run(data_space) # pass in the model at runtime\n",
    "\n",
    "assert all([r.technology == 'Satellite' for r in outputs.cost_results])\n",
    "assert len(outputs.cost_results) == 50 # 50 schools checked\n",
    "assert outputs.cost_results[0].capex == 500.0 # Fixed install cost\n",
    "assert outputs.cost_results[0].opex == 300.0 # Operating cost"
   ]
  },
  {
   "cell_type": "markdown",
   "id": "a6f88744-5b4f-4556-ab22-fb464fb0a39e",
   "metadata": {},
   "source": [
    "## Cellular Component Model"
   ]
  },
  {
   "cell_type": "code",
   "execution_count": null,
   "id": "8726944d-8b8e-4c48-a5a4-596b4b08e726",
   "metadata": {},
   "outputs": [],
   "source": [
    "from giga.models.components.cellular_cost_model import CellularCostModel\n",
    "from giga.schemas.conf.models import CellularTechnologyCostConf\n",
    "from giga.data.space.model_data_space import ModelDataSpace\n",
    "\n",
    "\n",
    "# Specify all the configurations, there are parsers that can help with this in the library\n",
    "config = CellularTechnologyCostConf(\n",
    "            capex={\"fixed_costs\": 500.0},\n",
    "            opex={\n",
    "                \"fixed_costs\": 0.0,\n",
    "                \"annual_bandwidth_cost_per_mbps\": 10.0,\n",
    "            },\n",
    "            constraints={\"maximum_bandwithd\": 100.0,\n",
    "                         \"required_power\": 10.0,\n",
    "                         \"maximum_range\": 8_000}, # in m\n",
    "            electricity_config={\"capex\": {\"solar_panel_costs\": 500.0,\n",
    "                                          \"battery_costs\": 0.0},\n",
    "                                \"opex\": {\"cost_per_kwh\": 0.1}\n",
    "            },\n",
    "        )\n",
    "\n",
    "# Get the school data from a local workspace directory\n",
    "data_space = ModelDataSpace(global_config.local_workspace_data_space_config) # a number of ways to load this including from project connect APIs\n",
    "\n",
    "# create and run the mode\n",
    "model = CellularCostModel(config)\n",
    "outputs = model.run(data_space) # pass in the model at runtime\n",
    "\n",
    "assert all([r.technology == 'Cellular' for r in outputs.cost_results])\n",
    "assert len(outputs.cost_results) == 50 # 50 schools checked\n",
    "assert outputs.cost_results[0].capex == 500.0 # Fixed install cost\n",
    "assert outputs.cost_results[0].opex == 200.0 # Operating cost"
   ]
  }
 ],
 "metadata": {
  "kernelspec": {
   "display_name": "Python 3 (ipykernel)",
   "language": "python",
   "name": "python3"
  },
  "language_info": {
   "codemirror_mode": {
    "name": "ipython",
    "version": 3
   },
   "file_extension": ".py",
   "mimetype": "text/x-python",
   "name": "python",
   "nbconvert_exporter": "python",
   "pygments_lexer": "ipython3",
   "version": "3.8.13"
  }
 },
 "nbformat": 4,
 "nbformat_minor": 5
}
