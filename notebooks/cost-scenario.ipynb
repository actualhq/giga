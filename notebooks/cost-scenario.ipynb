{
 "cells": [
  {
   "cell_type": "markdown",
   "id": "666dac70-ec78-44cb-8a49-1f2a6a2f1399",
   "metadata": {
    "extensions": {
     "jupyter_dashboards": {
      "activeView": "grid_default",
      "views": {
       "grid_default": {
        "col": null,
        "height": 2,
        "hidden": true,
        "locked": true,
        "row": null,
        "width": 2
       }
      }
     }
    },
    "tags": []
   },
   "source": [
    "# Connectivity Cost Estimation\n",
    "\n",
    "> For help, see documentation on [configuring and running these models](../README.md). \n",
    "\n",
    "<a id=\"top\"></a>\n"
   ]
  },
  {
   "cell_type": "code",
   "execution_count": null,
   "id": "35f11d8f-62c6-4697-81dd-2ac994f0b20f",
   "metadata": {
    "extensions": {
     "jupyter_dashboards": {
      "activeView": "grid_default",
      "views": {
       "grid_default": {
        "col": null,
        "height": 2,
        "hidden": true,
        "locked": true,
        "row": null,
        "width": 2
       }
      }
     }
    },
    "tags": []
   },
   "outputs": [],
   "source": [
    "from dotenv import load_dotenv\n",
    "load_dotenv()\n",
    "import json\n",
    "import os\n",
    "from ipywidgets import FileUpload, Output, Label\n",
    "\n",
    "from giga.viz.notebooks.cost_estimation_parameter_input import CostEstimationParameterInput\n",
    "from giga.viz.notebooks.components.widgets.giga_file_upload import GigaFileUpload\n",
    "\n",
    "import warnings\n",
    "warnings.filterwarnings('ignore')\n",
    "\n",
    "\n",
    "show_map = os.environ.get(\"FF_STATIC_MAP_NOTEBOOK\", True)\n",
    "\n",
    "output = Output()\n",
    "\n",
    "upload = GigaFileUpload(accept='.json', multiple=True, description=\"Import Config\")\n",
    "inputs = CostEstimationParameterInput(local_data_workspace='workspace', show_map=show_map)\n",
    "\n",
    "def on_upload_change(change):\n",
    "    try:\n",
    "        imported = json.loads(upload.value[0].content.tobytes())\n",
    "    except IndexError:\n",
    "        imported = {}\n",
    "    with output:\n",
    "        output.clear_output()\n",
    "        inputs.update(imported)\n",
    "    display(imported)\n",
    "    display(upload, inputs.parameter_input(), output)\n",
    "\n",
    "upload.observe(on_upload_change, names='value')\n",
    "display(upload, inputs.parameter_input(), output)"
   ]
  },
  {
   "cell_type": "markdown",
   "id": "07e49f50-69a3-48b9-94a2-f6a986a9ca9b",
   "metadata": {
    "extensions": {
     "jupyter_dashboards": {
      "activeView": "grid_default",
      "views": {
       "grid_default": {
        "col": null,
        "height": 2,
        "hidden": true,
        "locked": true,
        "row": null,
        "width": 2
       }
      }
     }
    }
   },
   "source": [
    "## II. Run the Model"
   ]
  },
  {
   "cell_type": "code",
   "execution_count": null,
   "id": "d9a9f25b-aa57-4ee2-9955-fe30807b3863",
   "metadata": {
    "extensions": {
     "jupyter_dashboards": {
      "activeView": "grid_default",
      "views": {
       "grid_default": {
        "col": null,
        "height": 2,
        "hidden": true,
        "locked": true,
        "row": null,
        "width": 2
       }
      }
     }
    },
    "tags": []
   },
   "outputs": [],
   "source": [
    "from IPython.display import display, clear_output\n",
    "from ipywidgets import Button, Output, HBox\n",
    "from tqdm import tqdm\n",
    "from IPython.display import clear_output\n",
    "import sys\n",
    "import time\n",
    "import logging\n",
    "import geopandas as gpd\n",
    "\n",
    "import json\n",
    "from io import StringIO\n",
    "from io import BytesIO\n",
    "\n",
    "\n",
    "from giga.models.scenarios.scenario_dispatcher import create_scenario\n",
    "from giga.data.space.model_data_space import ModelDataSpace\n",
    "from giga.schemas.output import OutputSpace\n",
    "from giga.utils.logging import LOGGER\n",
    "from giga.viz.notebooks.tables import display_summary_table, plot_cost_breakdown\n",
    "from giga.viz.notebooks.helpers import output_to_table\n",
    "from giga.viz.notebooks.components.widgets.giga_buttons import make_run_button, make_run_again_button\n",
    "from giga.viz.notebooks.components.widgets.giga_export import make_export_button_row\n",
    "from giga.viz.notebooks.components.dashboard.result_dashboard import ResultDashboard\n",
    "\n",
    "result_output = Output()\n",
    "\n",
    "output_space = None\n",
    "data_space = None\n",
    "config = None\n",
    "button = None\n",
    "\n",
    "\n",
    "def on_button_clicked(b):\n",
    "    with result_output:\n",
    "        clear_output(wait=True)\n",
    "        \n",
    "        global config\n",
    "        global data_space\n",
    "        global output_space\n",
    "        # freeze and disable confgiuration + running while model in progress\n",
    "        b.disabled = True\n",
    "        inputs.freeze()\n",
    "        # pull verbose flag\n",
    "        verbose = inputs.dashboard_parameters()[\"verbose\"]\n",
    "        LOGGER.propagate = verbose\n",
    "        # setup scenario\n",
    "        config = inputs.scenario_parameters()\n",
    "        data_space = ModelDataSpace(inputs.data_parameters())\n",
    "        output_space = OutputSpace()\n",
    "        scenario = create_scenario(config, data_space, output_space)\n",
    "        # run the models\n",
    "        output_space = scenario.run(progress_bar=verbose)\n",
    "        table = output_to_table(output_space)\n",
    "        table_geo = data_space.school_outputs_to_frame(table)\n",
    "        # show summary tables\n",
    "        display_summary_table(output_space, data_space)\n",
    "        # start the dashboard\n",
    "        dashboard = ResultDashboard(table_geo)\n",
    "        dashboard.display()\n",
    "        # make export + rerun buttons\n",
    "        export_buttons = make_export_button_row(table, inputs)\n",
    "        run_again_button = make_run_again_button(inputs, result_output, b)\n",
    "        display(export_buttons)\n",
    "        display(run_again_button)\n",
    "\n",
    "button = make_run_button(on_button_clicked)\n",
    "button.on_click(on_button_clicked)\n",
    "display(button, result_output)"
   ]
  },
  {
   "cell_type": "markdown",
   "id": "a1d336bc-4305-4483-b6fa-880deab6b948",
   "metadata": {
    "extensions": {
     "jupyter_dashboards": {
      "activeView": "grid_default",
      "views": {
       "grid_default": {
        "col": null,
        "height": 2,
        "hidden": true,
        "locked": true,
        "row": null,
        "width": 2
       }
      }
     }
    }
   },
   "source": [
    "## III. Results"
   ]
  },
  {
   "cell_type": "code",
   "execution_count": null,
   "id": "69605b3c-8660-432a-9640-a4222ec8baef",
   "metadata": {
    "extensions": {
     "jupyter_dashboards": {
      "activeView": "grid_default",
      "views": {
       "grid_default": {
        "col": null,
        "height": 2,
        "hidden": true,
        "locked": true,
        "row": null,
        "width": 2
       }
      }
     }
    }
   },
   "outputs": [],
   "source": [
    "import geopandas as gpd\n",
    "from ipywidgets import HTML\n",
    "\n",
    "from giga.viz.notebooks.tables import display_summary_table, output_to_capex_details, plot_cost_breakdown\n",
    "from giga.viz.notebooks.helpers import output_to_table, button_cb\n",
    "from giga.viz.notebooks.maps import show_cost_map, show_electricity_map\n",
    "from giga.viz.notebooks.fiber import plot_fiber_connections, default_rwanda_map, default_map\n",
    "\n",
    "\n",
    "def action():\n",
    "    with result_output:\n",
    "        if inputs.data_parameters().school_data_conf.country_id == 'brazil':\n",
    "            display(HTML(\"<hr><b><font color='#5b8ff0'>Unable to display maps for Brazil</b><br><br>\"))\n",
    "            return\n",
    "\n",
    "        center = inputs.defaults[inputs.data_parameters().school_data_conf.country_id].data.country_center_tuple\n",
    "\n",
    "        display(HTML(\"<hr><b><font color='#5b8ff0'>Electricity Map</b><br><br>\"))\n",
    "        display(show_electricity_map(data_space, location=center))\n",
    "\n",
    "        display(HTML(\"<hr><b><font color='#5b8ff0'>Cost Map</b><br><br>\"))\n",
    "        display(show_cost_map(data_space, output_space, location=center))\n",
    "\n",
    "        if output_space.fiber_costs is not None:\n",
    "            m = default_map(location=center)\n",
    "            display(HTML(\"<hr><b><font color='#5b8ff0'>Fiber Map</b><br><br>\"))\n",
    "            display(plot_fiber_connections(data_space.fiber_coordinates, data_space.school_coordinates, output_space.fiber_costs.technology_results.distances, m=m))\n",
    "        \n",
    "\n",
    "button, click = button_cb(\"Show Maps\", action)\n",
    "button.on_click(click)"
   ]
  },
  {
   "cell_type": "code",
   "execution_count": null,
   "id": "110c3069-0715-41f6-ba7b-c5287d577148",
   "metadata": {
    "extensions": {
     "jupyter_dashboards": {
      "activeView": "grid_default",
      "views": {
       "grid_default": {
        "col": null,
        "height": 2,
        "hidden": true,
        "locked": true,
        "row": null,
        "width": 2
       }
      }
     }
    }
   },
   "outputs": [],
   "source": [
    "from IPython.display import display, HTML\n",
    "from giga.viz.notebooks.helpers import output_to_table, button_cb\n",
    "\n",
    "\n",
    "def action():\n",
    "    with result_output:\n",
    "        table = output_to_table(output_space)\n",
    "        display(HTML('<h2>Cost Table</h2>'), table)\n",
    "\n",
    "\n",
    "button, click = button_cb(\"Show Full Table\", action)\n",
    "button.on_click(click)"
   ]
  },
  {
   "cell_type": "markdown",
   "id": "f4b3f006",
   "metadata": {},
   "source": [
    "See [drilldown notebook](results-drilldown.ipynb)"
   ]
  }
 ],
 "metadata": {
  "extensions": {
   "jupyter_dashboards": {
    "activeView": "grid_default",
    "version": 1,
    "views": {
     "grid_default": {
      "cellMargin": 2,
      "defaultCellHeight": 40,
      "maxColumns": 12,
      "name": "grid",
      "type": "grid"
     }
    }
   }
  },
  "kernelspec": {
   "display_name": "Python 3 (ipykernel)",
   "language": "python",
   "name": "python3"
  },
  "language_info": {
   "codemirror_mode": {
    "name": "ipython",
    "version": 3
   },
   "file_extension": ".py",
   "mimetype": "text/x-python",
   "name": "python",
   "nbconvert_exporter": "python",
   "pygments_lexer": "ipython3",
   "version": "3.9.12"
  }
 },
 "nbformat": 4,
 "nbformat_minor": 5
}
