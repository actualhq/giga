{
 "cells": [
  {
   "cell_type": "markdown",
   "id": "cd397575",
   "metadata": {},
   "source": [
    "# Connectivity Cost Estimation"
   ]
  },
  {
   "cell_type": "code",
   "execution_count": null,
   "id": "35f11d8f-62c6-4697-81dd-2ac994f0b20f",
   "metadata": {
    "extensions": {
     "jupyter_dashboards": {
      "activeView": "grid_default",
      "views": {
       "grid_default": {
        "col": null,
        "height": 2,
        "hidden": true,
        "locked": true,
        "row": null,
        "width": 2
       }
      }
     }
    },
    "tags": []
   },
   "outputs": [],
   "source": [
    "from dotenv import load_dotenv\n",
    "load_dotenv()\n",
    "import json\n",
    "import os\n",
    "from ipywidgets import FileUpload, Output, Label, HBox, HTML, Layout\n",
    "\n",
    "from giga.viz.notebooks.cost_estimation_parameter_input import CostEstimationParameterInput\n",
    "from giga.viz.notebooks.components.widgets.giga_file_upload import GigaFileUpload\n",
    "from giga.viz.notebooks.components.html.sections import section\n",
    "\n",
    "import warnings\n",
    "warnings.filterwarnings('ignore')\n",
    "\n",
    "\n",
    "show_map = os.environ.get(\"FF_STATIC_MAP_NOTEBOOK\", True)\n",
    "\n",
    "output = Output()\n",
    "\n",
    "upload = GigaFileUpload(accept='.json', multiple=True, description=\"Import Config\")\n",
    "inputs = CostEstimationParameterInput(local_data_workspace='workspace', show_map=show_map)\n",
    "\n",
    "def on_upload_change(change):\n",
    "    try:\n",
    "        imported = json.loads(upload.value[0].content.tobytes())\n",
    "    except IndexError:\n",
    "        imported = {}\n",
    "    with output:\n",
    "        output.clear_output()\n",
    "        inputs.update(imported)\n",
    "    display(imported)\n",
    "    display(upload, inputs.parameter_input(), output)\n",
    "\n",
    "upload.observe(on_upload_change, names='value')\n",
    "display(section(\n",
    "    title=\"Configuration\",\n",
    "    contents=HBox([\n",
    "        upload,\n",
    "        HTML(\"For help, see documentation on <a href=\\\"../README.md\\\" style=\\\"text-decoration:underline\\\">configuring and running these models</a>.\"),\n",
    "    ]),\n",
    "    extra_class=\"header\"\n",
    "))\n",
    "\n",
    "display(inputs.parameter_input(), output)"
   ]
  },
  {
   "cell_type": "code",
   "execution_count": null,
   "id": "d9a9f25b-aa57-4ee2-9955-fe30807b3863",
   "metadata": {
    "extensions": {
     "jupyter_dashboards": {
      "activeView": "grid_default",
      "views": {
       "grid_default": {
        "col": null,
        "height": 2,
        "hidden": true,
        "locked": true,
        "row": null,
        "width": 2
       }
      }
     }
    },
    "tags": []
   },
   "outputs": [],
   "source": [
    "from IPython.display import display, clear_output\n",
    "from ipywidgets import Button, Output, HBox, VBox, HTML, GridBox\n",
    "from tqdm import tqdm\n",
    "from IPython.display import clear_output\n",
    "import sys\n",
    "import time\n",
    "import logging\n",
    "import geopandas as gpd\n",
    "\n",
    "import json\n",
    "from io import StringIO\n",
    "from io import BytesIO\n",
    "\n",
    "\n",
    "from giga.models.scenarios.scenario_dispatcher import create_scenario\n",
    "from giga.data.space.model_data_space import ModelDataSpace\n",
    "from giga.schemas.output import OutputSpace\n",
    "from giga.utils.logging import LOGGER\n",
    "from giga.viz.notebooks.tables import display_summary_table, plot_cost_breakdown, output_to_capex_details\n",
    "from giga.viz.notebooks.helpers import output_to_table\n",
    "from giga.viz.notebooks.components.html.sections import section\n",
    "from giga.viz.notebooks.components.widgets.giga_buttons import make_run_button, make_run_again_button, make_show_maps_button, make_show_full_table_button\n",
    "from giga.viz.notebooks.components.widgets.giga_export import make_export_button_row\n",
    "from giga.viz.notebooks.components.dashboard.result_dashboard import ResultDashboard\n",
    "from giga.viz.notebooks.maps import show_cost_map, show_electricity_map\n",
    "from giga.viz.notebooks.fiber import plot_fiber_connections, default_map\n",
    "\n",
    "result_output = Output()\n",
    "\n",
    "output_space = None\n",
    "data_space = None\n",
    "config = None\n",
    "button = None\n",
    "\n",
    "map_output = Output()\n",
    "table_output = Output()\n",
    "\n",
    "def show_all_maps(event):\n",
    "    with map_output:\n",
    "        clear_output(wait=True)\n",
    "        if inputs.data_parameters().school_data_conf.country_id == 'brazil':\n",
    "            display(HTML(\"<hr><b><font color='#5b8ff0'>Unable to display maps for Brazil</b><br><br>\"))\n",
    "            return\n",
    "\n",
    "        center = inputs.defaults[inputs.data_parameters().school_data_conf.country_id].data.country_center_tuple\n",
    "\n",
    "        display(section(\"Electricity Map\", show_electricity_map(data_space, location=center)))\n",
    "\n",
    "        display(section(\"Cost Map\", show_cost_map(data_space, output_space, location=center)))\n",
    "\n",
    "\n",
    "        if output_space.fiber_costs is not None:\n",
    "            m = default_map(location=center)\n",
    "            fiber_html = HTML(\n",
    "                    plot_fiber_connections(data_space.fiber_coordinates, data_space.school_coordinates, \n",
    "                                            output_space.fiber_costs.technology_results.distances, m=m)._repr_html_())\n",
    "            fiber_html.add_class('folium-map')\n",
    "            display(section(\"Fiber Map\", fiber_html))\n",
    "\n",
    "def show_full_table(event):\n",
    "    with table_output:\n",
    "        table = HTML(output_to_table(output_space).to_html(col_space=5, border=0))\n",
    "        display(section(\"Cost Table\", table))\n",
    "\n",
    "def on_run_button_clicked(b):\n",
    "    with result_output:\n",
    "        clear_output(wait=True)\n",
    "        \n",
    "        global config\n",
    "        global data_space\n",
    "        global output_space\n",
    "        # freeze and disable confgiuration + running while model in progress\n",
    "        b.disabled = True\n",
    "        inputs.freeze()\n",
    "        # pull verbose flag\n",
    "        verbose = inputs.dashboard_parameters()[\"verbose\"]\n",
    "        LOGGER.propagate = verbose\n",
    "        # setup scenario\n",
    "        config = inputs.scenario_parameters()\n",
    "        data_space = ModelDataSpace(inputs.data_parameters())\n",
    "        data_space = data_space.filter_schools(inputs.get_selected_schools())\n",
    "        output_space = OutputSpace()\n",
    "        scenario = create_scenario(config, data_space, output_space)\n",
    "        # run the models\n",
    "        output_space = scenario.run(progress_bar=verbose)\n",
    "        table = output_to_table(output_space)\n",
    "        table_geo = data_space.school_outputs_to_frame(table)\n",
    "        # show summary tables\n",
    "        display(HTML('<br/><br/>'))\n",
    "        display_summary_table(output_space, data_space)\n",
    "        # start the dashboard\n",
    "        dashboard = ResultDashboard(table_geo)\n",
    "        dashboard.display()\n",
    "        # make export + rerun buttons\n",
    "        export_buttons = make_export_button_row(table, inputs)\n",
    "        run_again_button = make_run_again_button(inputs, result_output, b)\n",
    "        show_maps_button = make_show_maps_button(show_all_maps)\n",
    "        show_maps_button.on_click(show_all_maps)\n",
    "        full_table_button = make_show_full_table_button(show_full_table)\n",
    "        full_table_button.on_click(show_full_table)\n",
    "\n",
    "        # Create a grid with two columns, splitting space equally\n",
    "        layout = Layout(grid_template_columns='1fr 1fr')\n",
    "        display(GridBox([\n",
    "            section(\"More\", VBox([\n",
    "                run_again_button,\n",
    "                HTML(\"<hr/>\"),\n",
    "                show_maps_button,\n",
    "                full_table_button\n",
    "            ])),\n",
    "            section(\"Export\", export_buttons)\n",
    "        ], layout=layout))\n",
    "\n",
    "button = make_run_button(on_run_button_clicked)\n",
    "button.on_click(on_run_button_clicked)\n",
    "display(section(\n",
    "    title=\"Run the Model\",\n",
    "    contents=VBox([\n",
    "        button,\n",
    "        HTML(\"<br/>\"),\n",
    "        result_output,\n",
    "        map_output,\n",
    "        table_output\n",
    "    ]),\n",
    "    extra_class=\"run\"\n",
    "))"
   ]
  }
 ],
 "metadata": {
  "extensions": {
   "jupyter_dashboards": {
    "activeView": "grid_default",
    "version": 1,
    "views": {
     "grid_default": {
      "cellMargin": 2,
      "defaultCellHeight": 40,
      "maxColumns": 12,
      "name": "grid",
      "type": "grid"
     }
    }
   }
  },
  "kernelspec": {
   "display_name": "Python 3 (ipykernel)",
   "language": "python",
   "name": "python3"
  },
  "language_info": {
   "codemirror_mode": {
    "name": "ipython",
    "version": 3
   },
   "file_extension": ".py",
   "mimetype": "text/x-python",
   "name": "python",
   "nbconvert_exporter": "python",
   "pygments_lexer": "ipython3",
   "version": "3.9.6"
  }
 },
 "nbformat": 4,
 "nbformat_minor": 5
}
