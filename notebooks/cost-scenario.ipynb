{
 "cells": [
  {
   "cell_type": "markdown",
   "id": "4bcd9ea8-683f-4afe-9397-a30e69b2d703",
   "metadata": {},
   "source": [
    "# Library Documentation\n",
    "\n",
    "See the glossary [here](../models/README.md#Glossary) for documentation references."
   ]
  },
  {
   "cell_type": "markdown",
   "id": "666dac70-ec78-44cb-8a49-1f2a6a2f1399",
   "metadata": {},
   "source": [
    "# Total Cost Scenario\n",
    "\n",
    "This notebook provides an overview of estimating total costs of conencting a group of schools.\n",
    "The overview is split into the following categories:\n",
    "* **Configuration**: where you can configure a variety of model parameters\n",
    "* **Running models**: where you can start the model execution\n",
    "* **Outputs**: where you can examine the results in tables and plots and download them locally\n",
    "\n",
    "Note that the notebook is interactive.\n",
    "Namely, you can update the configurations, run the models again, and generate a new set of outputs.\n",
    "You will need to explicitly re-run the models again after a re-configuration (by clicking the `Run Model` button), and you will need to explicitly re-generate the outputs (by clicking the various `Generate ...` buttons) to see the ouputs updated."
   ]
  },
  {
   "cell_type": "markdown",
   "id": "a76e3385-d909-4a3a-9f81-65711deee4eb",
   "metadata": {},
   "source": [
    "## Configuration\n",
    "\n",
    "You can find a brief description of the model parameters [below](#Parameters). The interactive dashboard below allows you to configure the scenario of interest and the cost models being run inside that scenario."
   ]
  },
  {
   "cell_type": "code",
   "execution_count": null,
   "id": "35f11d8f-62c6-4697-81dd-2ac994f0b20f",
   "metadata": {
    "tags": []
   },
   "outputs": [],
   "source": [
    "from giga.viz.notebooks.cost_estimation_parameter_input import CostEstimationParameterInput\n",
    "\n",
    "import warnings\n",
    "warnings.filterwarnings('ignore')\n",
    "\n",
    "inputs = CostEstimationParameterInput(local_data_workspace='sample_workspace')\n",
    "inputs.parameter_input()"
   ]
  },
  {
   "cell_type": "markdown",
   "id": "07e49f50-69a3-48b9-94a2-f6a986a9ca9b",
   "metadata": {},
   "source": [
    "## Running the Model"
   ]
  },
  {
   "cell_type": "code",
   "execution_count": null,
   "id": "d9a9f25b-aa57-4ee2-9955-fe30807b3863",
   "metadata": {
    "tags": []
   },
   "outputs": [],
   "source": [
    "from IPython.display import display, clear_output\n",
    "from ipywidgets import Button, Output\n",
    "from tqdm import tqdm\n",
    "from IPython.display import clear_output\n",
    "import sys\n",
    "import time\n",
    "import logging\n",
    "\n",
    "from giga.models.scenarios.scenario_dispatcher import create_scenario\n",
    "from giga.data.space.model_data_space import ModelDataSpace\n",
    "from giga.schemas.output import OutputSpace\n",
    "from giga.viz.notebooks.helpers import run_message\n",
    "from giga.utils.logging import LOGGER\n",
    "\n",
    "button = Button(description=\"Run Model\")\n",
    "output = Output()\n",
    "\n",
    "output_space = None\n",
    "data_space = None\n",
    "config = None\n",
    "\n",
    "display(button, output)\n",
    "\n",
    "def on_button_clicked(b):\n",
    "    with output:\n",
    "        clear_output(wait=True)\n",
    "        global config\n",
    "        global data_space\n",
    "        global output_space\n",
    "        verbose = inputs.dashboard_parameters()[\"verbose\"]\n",
    "        LOGGER.propagate = verbose\n",
    "        config = inputs.scenario_parameters()\n",
    "        data_space = ModelDataSpace(inputs.data_parameters())\n",
    "        output_space = OutputSpace()\n",
    "        scenario = create_scenario(config, data_space, output_space)\n",
    "        output_space = scenario.run(progress_bar=verbose)\n",
    "        run_message()\n",
    "\n",
    "button.on_click(on_button_clicked)"
   ]
  },
  {
   "cell_type": "markdown",
   "id": "a1d336bc-4305-4483-b6fa-880deab6b948",
   "metadata": {},
   "source": [
    "## Output Tables\n",
    "\n",
    "The summary table below show aggregated cost statistics across the schools of interest.\n"
   ]
  },
  {
   "cell_type": "code",
   "execution_count": null,
   "id": "69605b3c-8660-432a-9640-a4222ec8baef",
   "metadata": {},
   "outputs": [],
   "source": [
    "import geopandas as gpd\n",
    "from ipywidgets import HTML\n",
    "\n",
    "from giga.viz.notebooks.tables import display_summary_table, output_to_capex_details, plot_cost_breakdown\n",
    "from giga.viz.notebooks.helpers import output_to_table, button_cb, download_link_frame\n",
    "from giga.viz.notebooks.maps import show_cost_map, show_electricity_map\n",
    "\n",
    "\n",
    "def action():\n",
    "    display_summary_table(output_space)\n",
    "    \n",
    "    border_file = 'parameter_workspace/TM_WORLD_BORDERS-0.3/TM_WORLD_BORDERS-0.3.shp'\n",
    "    borders = gpd.read_file(border_file)\n",
    "    b = borders[borders[\"NAME\"] == 'Rwanda']\n",
    "    plot_cost_breakdown(output_space, data_space, b)\n",
    "    \n",
    "    display(HTML(\"<hr><b><font color='#5b8ff0'>Electricity Map</b><br><br>\"))\n",
    "    display(show_electricity_map(data_space))\n",
    "    \n",
    "    display(HTML(\"<hr><b><font color='#5b8ff0'>Cost Map</b><br><br>\"))\n",
    "    display(show_cost_map(data_space, output_space))\n",
    "    \n",
    "    table = output_to_table(output_space)\n",
    "    display(download_link_frame(table))\n",
    "    \n",
    "button, click = button_cb(\"Show Summary Table\", action)\n",
    "button.on_click(click)"
   ]
  },
  {
   "cell_type": "markdown",
   "id": "6f84e8c5-1a4b-49e2-a2ed-6ed22d2868ff",
   "metadata": {},
   "source": [
    "The table below shows the complete model outputs by school."
   ]
  },
  {
   "cell_type": "code",
   "execution_count": null,
   "id": "110c3069-0715-41f6-ba7b-c5287d577148",
   "metadata": {},
   "outputs": [],
   "source": [
    "from IPython.display import display, HTML\n",
    "from giga.viz.notebooks.helpers import output_to_table, button_cb\n",
    "\n",
    "\n",
    "def action():\n",
    "    table = output_to_table(output_space)\n",
    "    display(HTML('<h2>Cost Table</h2>'), table)\n",
    "    \n",
    "button, click = button_cb(\"Show Full Table\", action)\n",
    "button.on_click(click)"
   ]
  },
  {
   "cell_type": "markdown",
   "id": "be195545-dd72-4d0a-a515-8ad3f388e6a8",
   "metadata": {},
   "source": [
    "## Parameters\n",
    "\n",
    "The following parameters can be configured in the model:\n",
    "\n",
    "* **Scenario**\n",
    "    * `Cost Scenario` determines which scenario to estimate costs for; either `Minimum Cost` which finds the cheapest technology can be selected, or an individual technology can be selected which will find the costs for just that technology\n",
    "    * `OpEx Years` determines the number of years that will be considered in the total cost estimates, where total cost is CapEx + OpEx * `OpEx Years`\n",
    "    * `Bandwidth Demand (Mbps)` determines the expected demand at each school being considered\n",
    "* **Fiber Model**\n",
    "    * `Annual cost per Mbps (USD)`: the annual cost of connectivity per Mbps in US Dollars\n",
    "    * `Cost Per km (USD)` is the average cost of laying fiber lines per km in US Dollars\n",
    "    * `Maintenance Cost per km (USD)` is the expected annual maintenace cost of new fiber lines in US Dollars\n",
    "    * `Maximum Connection Length (km)` is the maximum length of an individual fiber connection, if a single fiber connection exceeds this length, it will not be considered feasible\n",
    "    * `Annual Power Required (kWh)` is the annual power in kWh needed to operate the equipment\n",
    "    * `Economies of Scale` indicates if an economies of scale approach should be used when estimating the needed length of fiber lines\n",
    "* **Satellite Model**\n",
    "    * `Installation Cost (USD)` is the cost of intalling only the technology equipment (no electricity) at the school site\n",
    "    * `Annual cost per Mbps (USD)`is the annual cost of connectivity per Mbps in US Dollars\n",
    "    * `Annual Maintenance Cost (USD)` is the annual cost of maintaining the  equipment at the school site\n",
    "    * `Annual Power Required (kWh)` is the annual power in kWh needed to operate the equipment\n",
    "* **Cellular Model**\n",
    "    * `Installation Cost (USD)` is the cost of intalling only the technology equipment (no electricity) at the school site\n",
    "    * `Annual cost per Mbps (USD)`is the annual cost of connectivity per Mbps in US Dollars\n",
    "    * `Annual Maintenance Cost (USD)` is the annual cost of maintaining the  equipment at the school site\n",
    "    * `Annual Power Required (kWh)` is the annual power in kWh needed to operate the equipment\n",
    "    * `Maximum Cell Tower Range (km)` is the maximum distance from a cell tower that a school can receive internet service\n",
    "* **Electricity Model**\n",
    "    * `Cost per kWh (USD)` is the expected average cost of electricity for the schools considered in US Dollars\n",
    "    * `Solar Panel Install Cost (USD)` is the average cost of installing solar panels for the schools considered in US Dollars\n"
   ]
  }
 ],
 "metadata": {
  "kernelspec": {
   "display_name": "Python 3 (ipykernel)",
   "language": "python",
   "name": "python3"
  },
  "language_info": {
   "codemirror_mode": {
    "name": "ipython",
    "version": 3
   },
   "file_extension": ".py",
   "mimetype": "text/x-python",
   "name": "python",
   "nbconvert_exporter": "python",
   "pygments_lexer": "ipython3",
   "version": "3.8.13"
  }
 },
 "nbformat": 4,
 "nbformat_minor": 5
}
