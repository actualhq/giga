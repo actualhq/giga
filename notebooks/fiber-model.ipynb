version https://git-lfs.github.com/spec/v1
oid sha256:b81e1138b47817b18b7af8b71f291dab5f6e415c630b8d3177d06fa3a882b216
size 6326562
