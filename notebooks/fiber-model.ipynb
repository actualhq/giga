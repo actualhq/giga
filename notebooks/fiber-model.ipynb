version https://git-lfs.github.com/spec/v1
oid sha256:472eddf99d187095b03d0255ec07109f49ac86cce02d9bae18be0b87ca5d54ac
size 7077
