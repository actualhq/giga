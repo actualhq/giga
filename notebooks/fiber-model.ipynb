version https://git-lfs.github.com/spec/v1
oid sha256:2149c49020e1310c7cd39525142c4c4fdf6812e55a647a85ee872c02d463b23c
size 8781
