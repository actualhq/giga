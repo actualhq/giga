{
 "cells": [
  {
   "cell_type": "markdown",
   "id": "8dbd36c9-65f5-4309-8cc9-6dd15f64fde9",
   "metadata": {},
   "source": [
    "# Electricity Transforms\n",
    "\n",
    "This notebook cleans up the raw electricity data and turns it into a model compliant format for the countries below."
   ]
  },
  {
   "cell_type": "markdown",
   "id": "c04ab0ee-3d78-44ff-a191-589544c67149",
   "metadata": {},
   "source": [
    "# Rwanda"
   ]
  },
  {
   "cell_type": "code",
   "execution_count": null,
   "id": "8cd2f07a-6406-4cc4-98bc-a70508243aef",
   "metadata": {},
   "outputs": [],
   "source": [
    "import pandas as pd\n",
    "\n",
    "el = pd.read_csv('../parameter_workspace/rwanda_electricity.csv')\n",
    "el = el[['giga_id_school', 'electricity_availability']]\n",
    "el = el.rename(columns={'electricity_availability': 'has_electricity'})\n",
    "el['has_electricity'] = el['has_electricity'].apply(lambda x: False if x == 'OFF GRID' else True)\n",
    "el.to_csv('../sample_workspace/rwanda/electricity.csv', index=False)"
   ]
  },
  {
   "cell_type": "markdown",
   "id": "d7e65602-00ef-4689-b4ea-ff6fc93e474c",
   "metadata": {},
   "source": [
    "# Brazil"
   ]
  },
  {
   "cell_type": "code",
   "execution_count": null,
   "id": "959f2e6f-90cd-4c40-92be-c1f5dcdc24da",
   "metadata": {},
   "outputs": [],
   "source": [
    "import pandas as pd\n",
    "\n",
    "el = pd.read_csv('../parameter_workspace/brazil_electricity.csv')\n",
    "el = el[['giga_id_school', 'electricity']]\n",
    "el = el.rename(columns={'electricity': 'has_electricity'})\n",
    "el['has_electricity'] = el['has_electricity'].apply(lambda x: True if x == 'Yes' else False)\n",
    "el.to_csv('../sample_workspace/brazil/electricity.csv', index=False)"
   ]
  }
 ],
 "metadata": {
  "kernelspec": {
   "display_name": "Python 3 (ipykernel)",
   "language": "python",
   "name": "python3"
  },
  "language_info": {
   "codemirror_mode": {
    "name": "ipython",
    "version": 3
   },
   "file_extension": ".py",
   "mimetype": "text/x-python",
   "name": "python",
   "nbconvert_exporter": "python",
   "pygments_lexer": "ipython3",
   "version": "3.8.13"
  }
 },
 "nbformat": 4,
 "nbformat_minor": 5
}
