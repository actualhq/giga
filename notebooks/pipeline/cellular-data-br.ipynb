{
 "cells": [
  {
   "cell_type": "markdown",
   "id": "3daeb380-7b55-406f-9560-8666eb2d0b93",
   "metadata": {},
   "source": [
    "# Brazil Cellular Data Cleanup\n",
    "\n",
    "This notebook merges the raw cellular data for Brazil into a format that can be used in the models.\n",
    "This is expected to be a one time tranformation, but if more cellular data for Brazil becomes availible, the following can be used to transform it again.\n",
    "The current raw dataset for this, can be found [here](https://drive.google.com/drive/folders/1dulyARHZl4gvYYUmk6hvMebonvkGot8U?usp=share_link)."
   ]
  },
  {
   "cell_type": "code",
   "execution_count": null,
   "id": "ff57b94a-1605-44a1-a456-109b12a6a7d3",
   "metadata": {},
   "outputs": [],
   "source": [
    "from glob import glob\n",
    "from os.path import join, getctime\n",
    "import pandas as pd\n",
    "from tqdm.notebook import tqdm\n",
    "\n",
    "import warnings\n",
    "warnings.filterwarnings('ignore')\n",
    "\n",
    "WORKSPACE_SOURCE = '../parameter_workspace/cellular_br/'\n",
    "WORKSPACE_TARGET = '../sample_workspace/brazil/'\n",
    "\n",
    "def get_sort_files(path, extension):\n",
    "    list_of_files = []\n",
    "    for file in glob(join(path,f'*{extension}')):\n",
    "        list_of_files.append((getctime(file), file))\n",
    "    return [file for _, file in sorted(list_of_files)]\n",
    "\n",
    "def drop_duplicates(frame, primary_key):\n",
    "    return frame.drop_duplicates(subset=primary_key, keep=\"last\")\n",
    "\n",
    "# load in all the data, and de-duplicate first\n",
    "\n",
    "primary_key = 'NumEstacao'\n",
    "cell_towers_raw = pd.DataFrame()\n",
    "table_files = get_sort_files(WORKSPACE_SOURCE, 'csv')\n",
    "for f in tqdm(table_files):\n",
    "    df = pd.read_csv(f, encoding = \"iso-8859-1\")\n",
    "    df = drop_duplicates(df, primary_key)\n",
    "    cell_towers_raw = pd.concat([cell_towers_raw, df])\n",
    "cell_towers_raw = drop_duplicates(cell_towers_raw, primary_key)"
   ]
  },
  {
   "cell_type": "code",
   "execution_count": null,
   "id": "e2da8954-ec7f-4172-ab46-71c30b29a8f7",
   "metadata": {},
   "outputs": [],
   "source": [
    "cell_towers_raw"
   ]
  },
  {
   "cell_type": "code",
   "execution_count": null,
   "id": "41cdce01-9791-469d-bd87-e498a6b995d8",
   "metadata": {},
   "outputs": [],
   "source": [
    "# re-name and drop irrelevant columns\n",
    "cell_towers_raw = cell_towers_raw.rename(columns={'NumEstacao': 'Site ID',\n",
    "                                                  'AlturaAntena': 'Tower Height',\n",
    "                                                  'Tecnologia': 'Technology'})\n",
    "\n",
    "cell_towers_raw['Ownership of site'] = 'Unknown'\n",
    "cell_towers_raw['Indoor /outdoor'] = 'Outdoor'\n",
    "cell_towers_raw['Technology'] = 'LTE'\n",
    "cell_towers_raw = cell_towers_raw[['Site ID', 'Ownership of site',\n",
    "                                   'Indoor /outdoor', 'Latitude', 'Longitude',\n",
    "                                   'Tower Height', 'Technology']]\n",
    "cell_towers_raw = cell_towers_raw.dropna(subset=['Latitude', 'Longitude'])\n",
    "cell_towers_raw.to_csv(join(WORKSPACE_TARGET, 'cellular.csv'))"
   ]
  },
  {
   "cell_type": "code",
   "execution_count": null,
   "id": "590af370-10f3-4d01-a6d7-9b9271ae2323",
   "metadata": {},
   "outputs": [],
   "source": []
  }
 ],
 "metadata": {
  "kernelspec": {
   "display_name": "Python 3 (ipykernel)",
   "language": "python",
   "name": "python3"
  },
  "language_info": {
   "codemirror_mode": {
    "name": "ipython",
    "version": 3
   },
   "file_extension": ".py",
   "mimetype": "text/x-python",
   "name": "python",
   "nbconvert_exporter": "python",
   "pygments_lexer": "ipython3",
   "version": "3.8.13"
  }
 },
 "nbformat": 4,
 "nbformat_minor": 5
}
