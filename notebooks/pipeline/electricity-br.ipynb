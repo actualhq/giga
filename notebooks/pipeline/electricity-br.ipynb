{
 "cells": [
  {
   "cell_type": "code",
   "execution_count": null,
   "id": "759d2327-2cd9-4eb8-9f31-713e832de0b5",
   "metadata": {},
   "outputs": [],
   "source": [
    "import pandas as pd\n",
    "\n",
    "schools = pd.read_csv('sample_workspace/brazil/schools.csv')\n",
    "elec = pd.read_csv('parameter_workspace/brazil_electricity.csv')\n",
    "elec = elec[['giga_id_school', 'electricity']]\n",
    "\n",
    "merged = pd.merge(schools, elec, on='giga_id_school', how='left')\n",
    "merged['electricity'] = merged['electricity'].fillna('No')\n",
    "merged['electricity'] = merged['electricity'].apply(lambda x: True if x == 'Yes' else False)\n",
    "merged.to_csv('sample_workspace/brazil/schools.csv', index=False)"
   ]
  },
  {
   "cell_type": "code",
   "execution_count": null,
   "id": "6864f5a7-09ac-451d-82e1-0d95ba933a96",
   "metadata": {},
   "outputs": [],
   "source": [
    "import pandas as pd\n",
    "\n",
    "schools = pd.read_csv('sample_workspace/brazil/schools.csv')\n",
    "schools = schools.drop(columns=['Unnamed: 0'])\n",
    "schools = schools.rename(columns={'electricity': 'has_electricity'})\n",
    "schools.to_csv('sample_workspace/brazil/schools.csv')"
   ]
  },
  {
   "cell_type": "code",
   "execution_count": null,
   "id": "7b344775-73ca-4b58-85d3-7e6f5df57bf5",
   "metadata": {},
   "outputs": [],
   "source": [
    "elec.head(10)"
   ]
  },
  {
   "cell_type": "code",
   "execution_count": null,
   "id": "1428f58b-d749-44be-9d5a-85478f065d08",
   "metadata": {},
   "outputs": [],
   "source": [
    "merged = pd.merge(schools, elec, on='giga_id_school', how='left')\n",
    "merged['electricity'] = merged['electricity'].fillna('No')\n",
    "merged['electricity'] = merged['electricity'].apply(lambda x: True if x == 'Yes' else False)"
   ]
  },
  {
   "cell_type": "code",
   "execution_count": null,
   "id": "0f157483-50a2-4577-b8e7-6441324246ef",
   "metadata": {},
   "outputs": [],
   "source": [
    "merged.head(10)"
   ]
  },
  {
   "cell_type": "code",
   "execution_count": null,
   "id": "acb0510d-f6c6-4dfa-9ae5-1fa1ff42c6ad",
   "metadata": {},
   "outputs": [],
   "source": [
    "schoolsfillna"
   ]
  },
  {
   "cell_type": "code",
   "execution_count": null,
   "id": "e83ef67c-33f7-49dc-9290-0b888fc868b5",
   "metadata": {},
   "outputs": [],
   "source": []
  }
 ],
 "metadata": {
  "kernelspec": {
   "display_name": "Python 3 (ipykernel)",
   "language": "python",
   "name": "python3"
  },
  "language_info": {
   "codemirror_mode": {
    "name": "ipython",
    "version": 3
   },
   "file_extension": ".py",
   "mimetype": "text/x-python",
   "name": "python",
   "nbconvert_exporter": "python",
   "pygments_lexer": "ipython3",
   "version": "3.8.13"
  }
 },
 "nbformat": 4,
 "nbformat_minor": 5
}
