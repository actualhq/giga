{
 "cells": [
  {
   "attachments": {},
   "cell_type": "markdown",
   "metadata": {},
   "source": [
    "# Anonmyize data\n",
    "\n",
    "Anonymize the fixtures used for regression tests "
   ]
  },
  {
   "attachments": {},
   "cell_type": "markdown",
   "metadata": {},
   "source": [
    "## Read Data"
   ]
  },
  {
   "cell_type": "code",
   "execution_count": null,
   "metadata": {},
   "outputs": [],
   "source": [
    "import os\n",
    "import pandas as pd\n",
    "from uuid import uuid4\n",
    "import numpy\n",
    "from pathlib import Path"
   ]
  },
  {
   "cell_type": "code",
   "execution_count": null,
   "metadata": {},
   "outputs": [],
   "source": [
    "src = os.getcwd()\n",
    "srcpath = 'test/components/fixtures/sample_workspace/sample'\n",
    "file_name1 = 'schools.csv'\n",
    "file_name2 = 'fiber.csv'\n",
    "file_name3 = 'cellular.csv'\n",
    "file1 = os.path.join(src, srcpath, file_name1)\n",
    "file2 = os.path.join(src, srcpath, file_name2)\n",
    "file3 = os.path.join(src, srcpath, file_name3)"
   ]
  },
  {
   "cell_type": "code",
   "execution_count": null,
   "metadata": {},
   "outputs": [],
   "source": [
    "def uniform_iid_generator():\n",
    "    x = numpy.random.uniform(low=-0.1, high=0.1)\n",
    "    return x"
   ]
  },
  {
   "cell_type": "code",
   "execution_count": null,
   "metadata": {},
   "outputs": [],
   "source": [
    "def random_number_generator():\n",
    "    x = numpy.random.randint(0, 50)\n",
    "    return x"
   ]
  },
  {
   "cell_type": "markdown",
   "metadata": {},
   "source": [
    "## Schools\n",
    "\n",
    "**Schools:**\n",
    "- id, school_id, giga_id_school, and name should all be replaced with uuids (e.g. uuid4 works well here)\n",
    "- lon/lat should be slightly perturbed: randomly sample iid uniform(-0.1, 0.1) and add each sample to lat/lon\n",
    "- education_level, country, country_id, admin_name_1, admin_name_2, admin_name_3, admin_name_4 should be renamed to \"test\" in all rows"
   ]
  },
  {
   "cell_type": "code",
   "execution_count": null,
   "metadata": {},
   "outputs": [],
   "source": [
    "schools_df = pd.read_csv(file1)"
   ]
  },
  {
   "cell_type": "code",
   "execution_count": null,
   "metadata": {},
   "outputs": [],
   "source": [
    "len(schools_df)"
   ]
  },
  {
   "cell_type": "code",
   "execution_count": null,
   "metadata": {},
   "outputs": [],
   "source": [
    "schools_df = schools_df.drop('Unnamed: 0', axis=1)"
   ]
  },
  {
   "cell_type": "code",
   "execution_count": null,
   "metadata": {},
   "outputs": [],
   "source": [
    "schools_df.head()"
   ]
  },
  {
   "cell_type": "code",
   "execution_count": null,
   "metadata": {},
   "outputs": [],
   "source": [
    "# id, school_id, giga_id_school, and name should all be replaced with uuids\n",
    "cols = ['id', 'school_id', 'giga_id_school', 'name']\n",
    "for items in cols:\n",
    "    schools_df[items] = schools_df[items].apply(lambda _: uuid4())"
   ]
  },
  {
   "cell_type": "code",
   "execution_count": null,
   "metadata": {},
   "outputs": [],
   "source": [
    "cols = ['country_id']\n",
    "for items in cols:\n",
    "    schools_df[items] = schools_df[items].apply(lambda _: random_number_generator())"
   ]
  },
  {
   "cell_type": "code",
   "execution_count": null,
   "metadata": {},
   "outputs": [],
   "source": [
    "# lon/lat should be slightly perturbed: randomly sample iid uniform(-0.1, 0.1) and add each sample to lat/lon\n",
    "schools_df['lon'] = schools_df['lon'].apply(lambda x: x + uniform_iid_generator())\n",
    "schools_df['lat'] = schools_df['lat'].apply(lambda x: x + uniform_iid_generator())"
   ]
  },
  {
   "cell_type": "code",
   "execution_count": null,
   "metadata": {},
   "outputs": [],
   "source": [
    "# education_level, country, country_id, admin_name_1, admin_name_2, admin_name_3, admin_name_4 should be renamed to \"test\" in all rows\n",
    "temp = ['country', 'admin_1_name', 'admin_2_name', 'admin_3_name', 'admin_5_name']\n",
    "\n",
    "for items in temp:\n",
    "    schools_df[items] = \"test\"\n"
   ]
  },
  {
   "cell_type": "code",
   "execution_count": null,
   "metadata": {},
   "outputs": [],
   "source": [
    "temp = ['education_level']\n",
    "for items in temp:\n",
    "    schools_df[items] = \"Other\""
   ]
  },
  {
   "cell_type": "code",
   "execution_count": null,
   "metadata": {},
   "outputs": [],
   "source": [
    "schools_df.columns"
   ]
  },
  {
   "cell_type": "code",
   "execution_count": null,
   "metadata": {},
   "outputs": [],
   "source": [
    "schools_df.head()['country_id']"
   ]
  },
  {
   "cell_type": "code",
   "execution_count": null,
   "metadata": {},
   "outputs": [],
   "source": [
    "len(schools_df)"
   ]
  },
  {
   "cell_type": "code",
   "execution_count": null,
   "metadata": {},
   "outputs": [],
   "source": [
    "schools_df.to_csv(file1)"
   ]
  },
  {
   "cell_type": "markdown",
   "metadata": {},
   "source": [
    "## Cellular\n",
    "**Cellular:**\n",
    "- Site ID should be replaced with a uuid in all rows\n",
    "- State, Region, Ownership of site, Site Type, Site power topology should all be replaced with \"test\" in all rows\n",
    "- Indoor /outdoor should be replaced with \"Outdoor\" in all rows\n",
    "- Site power topology should be replaced with \"Grid\" in all rows\n",
    "- Tower Height should be replaced with a random sample height taken from integer(uniform(5, 50)) for each row independently \n",
    "- Technology should be replaced with \"4G\" in all rows\n",
    "- lon/lat should be slightly perturbed: randomly sample iid uniform(-0.1, 0.1) and add each sample to lat/lon"
   ]
  },
  {
   "cell_type": "code",
   "execution_count": null,
   "metadata": {},
   "outputs": [],
   "source": [
    "def tower_value_generator():\n",
    "    val = numpy.random.uniform(low=5, high=50)\n",
    "    return int(val)"
   ]
  },
  {
   "cell_type": "code",
   "execution_count": null,
   "metadata": {},
   "outputs": [],
   "source": [
    "cellular_df = pd.read_csv(file3)"
   ]
  },
  {
   "cell_type": "code",
   "execution_count": null,
   "metadata": {},
   "outputs": [],
   "source": [
    "len(cellular_df)"
   ]
  },
  {
   "cell_type": "code",
   "execution_count": null,
   "metadata": {},
   "outputs": [],
   "source": [
    "cellular_df = cellular_df.drop('Unnamed: 0', axis=1)"
   ]
  },
  {
   "cell_type": "code",
   "execution_count": null,
   "metadata": {},
   "outputs": [],
   "source": [
    "cellular_df.columns"
   ]
  },
  {
   "cell_type": "code",
   "execution_count": null,
   "metadata": {},
   "outputs": [],
   "source": [
    "cellular_df['Site ID'] = cellular_df['Site ID'].apply(lambda _: str(uuid4()))"
   ]
  },
  {
   "cell_type": "code",
   "execution_count": null,
   "metadata": {},
   "outputs": [],
   "source": [
    "temp = ['State', 'Region', 'Ownership of site', 'Site Type', 'Site power topology']\n",
    "\n",
    "for items in temp:\n",
    "    cellular_df[items] = \"test\""
   ]
  },
  {
   "cell_type": "code",
   "execution_count": null,
   "metadata": {},
   "outputs": [],
   "source": [
    "cellular_df['Indoor /outdoor'] = \"Outdoor\"\n",
    "cellular_df['Site power topology'] = \"Grid\"\n",
    "cellular_df['Technology'] = \"4G\""
   ]
  },
  {
   "cell_type": "code",
   "execution_count": null,
   "metadata": {},
   "outputs": [],
   "source": [
    "cellular_df['Tower Height'] = cellular_df['Tower Height'].apply(lambda _: tower_value_generator())"
   ]
  },
  {
   "cell_type": "code",
   "execution_count": null,
   "metadata": {},
   "outputs": [],
   "source": [
    "# lon/lat should be slightly perturbed: randomly sample iid uniform(-0.1, 0.1) and add each sample to lat/lon\n",
    "cellular_df['Longitude'] = cellular_df['Longitude'].apply(lambda x: x + uniform_iid_generator())\n",
    "cellular_df['Latitude'] = cellular_df['Latitude'].apply(lambda x: x + uniform_iid_generator())"
   ]
  },
  {
   "cell_type": "code",
   "execution_count": null,
   "metadata": {},
   "outputs": [],
   "source": [
    "len(cellular_df)"
   ]
  },
  {
   "cell_type": "code",
   "execution_count": null,
   "metadata": {},
   "outputs": [],
   "source": [
    "cellular_df.to_csv(file3)"
   ]
  },
  {
   "cell_type": "markdown",
   "metadata": {},
   "source": [
    "## Fiber\n",
    "\n",
    "**Fiber:**\n",
    "- lon/lat should be slightly perturbed: randomly sample iid uniform(-0.1, 0.1) and add each sample to lat/lon"
   ]
  },
  {
   "cell_type": "code",
   "execution_count": null,
   "metadata": {},
   "outputs": [],
   "source": [
    "fiber_df = pd.read_csv(file2)"
   ]
  },
  {
   "cell_type": "code",
   "execution_count": null,
   "metadata": {},
   "outputs": [],
   "source": [
    "len(fiber_df)"
   ]
  },
  {
   "cell_type": "code",
   "execution_count": null,
   "metadata": {},
   "outputs": [],
   "source": [
    "fiber_df.head()"
   ]
  },
  {
   "cell_type": "code",
   "execution_count": null,
   "metadata": {},
   "outputs": [],
   "source": [
    "fiber_df = fiber_df.drop('Unnamed: 0', axis=1)"
   ]
  },
  {
   "cell_type": "code",
   "execution_count": null,
   "metadata": {},
   "outputs": [],
   "source": [
    "# lon/lat should be slightly perturbed: randomly sample iid uniform(-0.1, 0.1) and add each sample to lat/lon\n",
    "fiber_df['lon'] = fiber_df['lon'].apply(lambda x: x + uniform_iid_generator())\n",
    "fiber_df['lat'] = fiber_df['lat'].apply(lambda x: x + uniform_iid_generator())"
   ]
  },
  {
   "cell_type": "code",
   "execution_count": null,
   "metadata": {},
   "outputs": [],
   "source": [
    "fiber_df.head()"
   ]
  },
  {
   "cell_type": "code",
   "execution_count": null,
   "metadata": {},
   "outputs": [],
   "source": [
    "len(fiber_df)"
   ]
  },
  {
   "cell_type": "code",
   "execution_count": null,
   "metadata": {},
   "outputs": [],
   "source": [
    "fiber_df.to_csv(file2)"
   ]
  }
 ],
 "metadata": {
  "kernelspec": {
   "display_name": "Python 3",
   "language": "python",
   "name": "python3"
  },
  "language_info": {
   "name": "python",
   "version": "3.8.2"
  },
  "vscode": {
   "interpreter": {
    "hash": "916dbcbb3f70747c44a77c7bcd40155683ae19c65e1c03b4aa3499c5328201f1"
   }
  }
 },
 "nbformat": 4,
 "nbformat_minor": 2
}
